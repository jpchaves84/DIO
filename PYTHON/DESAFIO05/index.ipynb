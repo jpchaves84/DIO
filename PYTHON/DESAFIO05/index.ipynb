{
  "cells": [
    {
      "cell_type": "code",
      "execution_count": null,
      "metadata": {
        "id": "co2BYsNUVhwi"
      },
      "outputs": [],
      "source": [
        "!pip install flask pyngrok pandas"
      ]
    },
    {
      "cell_type": "code",
      "execution_count": null,
      "metadata": {
        "id": "oDq_UWGPVvLx"
      },
      "outputs": [],
      "source": [
        "from flask import Flask, jsonify\n",
        "import pandas as pd\n",
        "from pyngrok import ngrok\n",
        "\n",
        "!ngrok authtoken YOUR_NGROK_AUTHTOKEN_HERE"
      ]
    },
    {
      "cell_type": "code",
      "execution_count": null,
      "metadata": {
        "id": "bJBqEza1V0ch"
      },
      "outputs": [],
      "source": [
        "app = Flask(__name__)\n",
        "\n",
        "df = pd.read_csv('/content/sample_data/mnist_test.csv')\n",
        "\n",
        "data = df.to_dict(orient='records')\n"
      ]
    },
    {
      "cell_type": "code",
      "execution_count": null,
      "metadata": {
        "id": "96Fqpz03WDmq"
      },
      "outputs": [],
      "source": [
        "@app.route('/dados', methods=['GET'])\n",
        "def get_dados():\n",
        "    return jsonify(data)\n",
        "\n",
        "public_url = ngrok.connect(5000)\n",
        "print('Public URL:', public_url)\n"
      ]
    },
    {
      "cell_type": "code",
      "execution_count": null,
      "metadata": {
        "id": "UZXQbTyiWGgn"
      },
      "outputs": [],
      "source": [
        "# Rodar a aplicação Flask\n",
        "app.run()"
      ]
    }
  ],
  "metadata": {
    "colab": {
      "provenance": []
    },
    "kernelspec": {
      "display_name": "Python 3",
      "name": "python3"
    },
    "language_info": {
      "name": "python"
    }
  },
  "nbformat": 4,
  "nbformat_minor": 0
}